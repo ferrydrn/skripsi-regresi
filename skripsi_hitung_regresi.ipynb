{
  "nbformat": 4,
  "nbformat_minor": 0,
  "metadata": {
    "colab": {
      "provenance": [],
      "authorship_tag": "ABX9TyM3lwD0y9xCy0nh2cczHISZ",
      "include_colab_link": true
    },
    "kernelspec": {
      "name": "python3",
      "display_name": "Python 3"
    },
    "language_info": {
      "name": "python"
    }
  },
  "cells": [
    {
      "cell_type": "markdown",
      "metadata": {
        "id": "view-in-github",
        "colab_type": "text"
      },
      "source": [
        "<a href=\"https://colab.research.google.com/github/ferrydrn/skripsi-regresi/blob/main/skripsi_hitung_regresi.ipynb\" target=\"_parent\"><img src=\"https://colab.research.google.com/assets/colab-badge.svg\" alt=\"Open In Colab\"/></a>"
      ]
    },
    {
      "cell_type": "code",
      "execution_count": 7,
      "metadata": {
        "id": "jgRdP0PRRue1"
      },
      "outputs": [],
      "source": [
        "import pandas as pd\n",
        "import numpy as np\n",
        "import statsmodels.api as sm\n",
        "from sklearn.linear_model import LinearRegression"
      ]
    },
    {
      "cell_type": "code",
      "source": [
        "# Baca file Excel\n",
        "data = pd.read_excel('test.xlsx')"
      ],
      "metadata": {
        "id": "RMCRi1PuSavo"
      },
      "execution_count": 8,
      "outputs": []
    },
    {
      "cell_type": "code",
      "source": [
        "print(data)"
      ],
      "metadata": {
        "colab": {
          "base_uri": "https://localhost:8080/"
        },
        "id": "LVBwfsguYtTw",
        "outputId": "0f026522-45dc-4d23-bc46-25f1bd51a46d"
      },
      "execution_count": 9,
      "outputs": [
        {
          "output_type": "stream",
          "name": "stdout",
          "text": [
            "   periklanan  pemasaran_langsung  penjualan_personal  penjualan\n",
            "0     3000000             4000000             3000000  412163500\n",
            "1     3000000             5000000             2000000  436407000\n",
            "2     3000000             4500000             3000000  414113500\n",
            "3     2000000             6000000             2000000  468905500\n",
            "4     2500000             6500000             1000000  871604100\n",
            "5     3000000             5000000             2000000  765510575\n",
            "6     2000000             6000000             2000000  774170075\n",
            "7     2500000             5500000             2000000  752243450\n"
          ]
        }
      ]
    },
    {
      "cell_type": "code",
      "source": [
        "# Variabel tetap (y) dan variabel bebas (x1, x2, x3)\n",
        "y = data['penjualan'].values\n",
        "X = data[['periklanan', 'pemasaran_langsung', 'penjualan_personal']].values"
      ],
      "metadata": {
        "id": "WrcvevPzSnPk"
      },
      "execution_count": 10,
      "outputs": []
    },
    {
      "cell_type": "code",
      "source": [
        "# Tambahkan kolom konstanta pada variabel bebas\n",
        "X = sm.add_constant(X)"
      ],
      "metadata": {
        "id": "VwZS3G0gS9Tx"
      },
      "execution_count": 11,
      "outputs": []
    },
    {
      "cell_type": "code",
      "source": [
        "data = data.dropna(subset=['periklanan', 'pemasaran_langsung', 'penjualan_personal', 'penjualan'])"
      ],
      "metadata": {
        "id": "_jn-KmPQXXDh"
      },
      "execution_count": 12,
      "outputs": []
    },
    {
      "cell_type": "code",
      "source": [
        "# Buat model regresi linear berganda\n",
        "model = sm.OLS(y, X)"
      ],
      "metadata": {
        "id": "EZIK_QRvTAiL"
      },
      "execution_count": 13,
      "outputs": []
    },
    {
      "cell_type": "code",
      "source": [
        "# Latih model\n",
        "result = model.fit()"
      ],
      "metadata": {
        "id": "GPmyTDj9TxN-"
      },
      "execution_count": 14,
      "outputs": []
    },
    {
      "cell_type": "code",
      "source": [
        "# Koefisien regresi\n",
        "coefficients = result.params\n",
        "print(\"Koefisien regresi:\")\n",
        "print(coefficients)"
      ],
      "metadata": {
        "colab": {
          "base_uri": "https://localhost:8080/"
        },
        "id": "HetybekoZZiR",
        "outputId": "d10e9c43-7443-4107-ca41-ae5b992a91c4"
      },
      "execution_count": 15,
      "outputs": [
        {
          "output_type": "stream",
          "name": "stdout",
          "text": [
            "Koefisien regresi:\n",
            "[ 9.98637174e+08 -4.25075410e+00  1.38425967e+01 -2.11354366e+02]\n"
          ]
        }
      ]
    },
    {
      "cell_type": "code",
      "source": [
        "# Korelasi\n",
        "correlation_matrix = data[['penjualan', 'periklanan', 'pemasaran_langsung', 'penjualan_personal']].corr()\n",
        "print(\"Korelasi:\")\n",
        "print(correlation_matrix)"
      ],
      "metadata": {
        "colab": {
          "base_uri": "https://localhost:8080/"
        },
        "id": "sRJBsgQeZcCl",
        "outputId": "309858d5-bf91-4eed-8b7b-af55b2eaa332"
      },
      "execution_count": 16,
      "outputs": [
        {
          "output_type": "stream",
          "name": "stdout",
          "text": [
            "Korelasi:\n",
            "                    penjualan  periklanan  pemasaran_langsung  \\\n",
            "penjualan            1.000000   -0.361762            0.674749   \n",
            "periklanan          -0.361762    1.000000           -0.789076   \n",
            "pemasaran_langsung   0.674749   -0.789076            1.000000   \n",
            "penjualan_personal  -0.749663    0.440086           -0.876422   \n",
            "\n",
            "                    penjualan_personal  \n",
            "penjualan                    -0.749663  \n",
            "periklanan                    0.440086  \n",
            "pemasaran_langsung           -0.876422  \n",
            "penjualan_personal            1.000000  \n"
          ]
        }
      ]
    },
    {
      "cell_type": "code",
      "source": [
        "# Determinasi\n",
        "r_squared = result.rsquared\n",
        "print(\"Koefisien determinasi (R-squared):\")\n",
        "print(r_squared)"
      ],
      "metadata": {
        "colab": {
          "base_uri": "https://localhost:8080/"
        },
        "id": "gRw_a814ZtJV",
        "outputId": "59ff2e52-2bb5-4952-933f-0136f9232a4e"
      },
      "execution_count": 17,
      "outputs": [
        {
          "output_type": "stream",
          "name": "stdout",
          "text": [
            "Koefisien determinasi (R-squared):\n",
            "0.5633597485855208\n"
          ]
        }
      ]
    },
    {
      "cell_type": "code",
      "source": [
        "# Uji F\n",
        "f_value = result.fvalue\n",
        "f_pvalue = result.f_pvalue\n",
        "print(\"Uji F:\")\n",
        "print(\"F-value:\", f_value)\n",
        "print(\"P-value:\", f_pvalue)"
      ],
      "metadata": {
        "colab": {
          "base_uri": "https://localhost:8080/"
        },
        "id": "5Dx-DIA2Zv7g",
        "outputId": "42f44d02-1290-4a47-d1ba-88e214d9e1ac"
      },
      "execution_count": 18,
      "outputs": [
        {
          "output_type": "stream",
          "name": "stdout",
          "text": [
            "Uji F:\n",
            "F-value: 1.720286503624098\n",
            "P-value: 0.3002122733371877\n"
          ]
        }
      ]
    },
    {
      "cell_type": "code",
      "source": [
        "# Uji t\n",
        "t_values = result.tvalues\n",
        "t_pvalues = result.pvalues\n",
        "print(\"Uji t:\")\n",
        "print(\"T-values:\")\n",
        "print(t_values)\n",
        "print(\"P-values:\")\n",
        "print(t_pvalues)"
      ],
      "metadata": {
        "colab": {
          "base_uri": "https://localhost:8080/"
        },
        "id": "EON8_KCdZzyp",
        "outputId": "9eaad4a1-a787-4900-cb0d-e32d2315f71a"
      },
      "execution_count": 19,
      "outputs": [
        {
          "output_type": "stream",
          "name": "stdout",
          "text": [
            "Uji t:\n",
            "T-values:\n",
            "[ 0.23345102 -0.00943827  0.03133264 -0.53194128]\n",
            "P-values:\n",
            "[0.82687166 0.99292143 0.97650533 0.62293881]\n"
          ]
        }
      ]
    },
    {
      "cell_type": "code",
      "source": [
        "# Prediksi berdasarkan model\n",
        "y_pred = result.predict(X)\n",
        "data['Prediksi'] = y_pred"
      ],
      "metadata": {
        "id": "uswQpdz4aDsf"
      },
      "execution_count": 20,
      "outputs": []
    },
    {
      "cell_type": "code",
      "source": [
        "# Menampilkan data beserta prediksi\n",
        "print(data)"
      ],
      "metadata": {
        "colab": {
          "base_uri": "https://localhost:8080/"
        },
        "id": "YHNLikkGakz_",
        "outputId": "5013dfd4-eb84-4174-f0e4-7c006a420d75"
      },
      "execution_count": 21,
      "outputs": [
        {
          "output_type": "stream",
          "name": "stdout",
          "text": [
            "   periklanan  pemasaran_langsung  penjualan_personal  penjualan      Prediksi\n",
            "0     3000000             4000000             3000000  412163500  4.071922e+08\n",
            "1     3000000             5000000             2000000  436407000  6.323892e+08\n",
            "2     3000000             4500000             3000000  414113500  4.141135e+08\n",
            "3     2000000             6000000             2000000  468905500  6.504825e+08\n",
            "4     2500000             6500000             1000000  871604100  8.666328e+08\n",
            "5     3000000             5000000             2000000  765510575  6.323892e+08\n",
            "6     2000000             6000000             2000000  774170075  6.504825e+08\n",
            "7     2500000             5500000             2000000  752243450  6.414358e+08\n"
          ]
        }
      ]
    },
    {
      "cell_type": "code",
      "source": [
        "# Menampilkan rekomendasi\n",
        "threshold = 0.5  # Ubah threshold sesuai kebutuhan\n",
        "rekomendasi = data[data['Prediksi'] > threshold]\n",
        "print(\"Rekomendasi:\")\n",
        "print(rekomendasi)"
      ],
      "metadata": {
        "colab": {
          "base_uri": "https://localhost:8080/"
        },
        "id": "OUnGASCGaniv",
        "outputId": "5c9e96b0-3d50-4289-e91f-d43eee194978"
      },
      "execution_count": 22,
      "outputs": [
        {
          "output_type": "stream",
          "name": "stdout",
          "text": [
            "Rekomendasi:\n",
            "   periklanan  pemasaran_langsung  penjualan_personal  penjualan      Prediksi\n",
            "0     3000000             4000000             3000000  412163500  4.071922e+08\n",
            "1     3000000             5000000             2000000  436407000  6.323892e+08\n",
            "2     3000000             4500000             3000000  414113500  4.141135e+08\n",
            "3     2000000             6000000             2000000  468905500  6.504825e+08\n",
            "4     2500000             6500000             1000000  871604100  8.666328e+08\n",
            "5     3000000             5000000             2000000  765510575  6.323892e+08\n",
            "6     2000000             6000000             2000000  774170075  6.504825e+08\n",
            "7     2500000             5500000             2000000  752243450  6.414358e+08\n"
          ]
        }
      ]
    },
    {
      "cell_type": "code",
      "source": [
        "thitung = t_values\n",
        "ttabel = 2.776\n",
        "signifikansi = t_pvalues\n",
        "\n",
        "def jadikan_ttabel_negatif(ttabel, thitung):\n",
        "    return -ttabel if thitung < 0 else ttabel\n",
        "\n",
        "def uji_pengaruh(thitung, ttabel, signifikansi):\n",
        "    if signifikansi > 0.05 and abs(thitung) > ttabel:\n",
        "        return \"Pengaruh variabel tersebut berpengaruh namun tidak signifikan terhadap volume penjualan.\"\n",
        "    else:\n",
        "        return \"Pengaruh variabel tersebut tidak berpengaruh atau tidak signifikan terhadap volume penjualan.\"\n",
        "\n",
        "ttabel_periklanan = jadikan_ttabel_negatif(ttabel, thitung[1])\n",
        "hasil_uji_periklanan = uji_pengaruh(thitung[1], ttabel_periklanan, signifikansi[1])\n",
        "print(\"Pengaruh periklanan terhadap volume penjualan:\", hasil_uji_periklanan)\n",
        "\n",
        "ttabel_pemasaran_langsung = jadikan_ttabel_negatif(ttabel, thitung[2])\n",
        "hasil_uji_pemasaran_langsung = uji_pengaruh(thitung[2], ttabel_pemasaran_langsung, signifikansi[2])\n",
        "print(\"Pengaruh pemasaran langsung terhadap volume penjualan:\", hasil_uji_pemasaran_langsung)\n",
        "\n",
        "ttabel_penjualan_personal = jadikan_ttabel_negatif(ttabel, thitung[3])\n",
        "hasil_uji_penjualan_personal = uji_pengaruh(thitung[3], ttabel_penjualan_personal, signifikansi[3])\n",
        "print(\"Pengaruh penjualan personal terhadap volume penjualan:\", hasil_uji_penjualan_personal)\n"
      ],
      "metadata": {
        "colab": {
          "base_uri": "https://localhost:8080/"
        },
        "id": "XMKhB_nsB4fu",
        "outputId": "ab5172fb-cdeb-46a4-c909-84337a66c5dd"
      },
      "execution_count": 59,
      "outputs": [
        {
          "output_type": "stream",
          "name": "stdout",
          "text": [
            "Pengaruh periklanan terhadap volume penjualan: Pengaruh variabel tersebut berpengaruh namun tidak signifikan terhadap volume penjualan.\n",
            "Pengaruh pemasaran langsung terhadap volume penjualan: Pengaruh variabel tersebut tidak berpengaruh atau tidak signifikan terhadap volume penjualan.\n",
            "Pengaruh penjualan personal terhadap volume penjualan: Pengaruh variabel tersebut berpengaruh namun tidak signifikan terhadap volume penjualan.\n"
          ]
        }
      ]
    }
  ]
}