{
  "nbformat": 4,
  "nbformat_minor": 0,
  "metadata": {
    "colab": {
      "provenance": []
    },
    "kernelspec": {
      "name": "python3",
      "display_name": "Python 3"
    },
    "language_info": {
      "name": "python"
    }
  },
  "cells": [
    {
      "cell_type": "code",
      "execution_count": 33,
      "metadata": {
        "id": "jgRdP0PRRue1"
      },
      "outputs": [],
      "source": [
        "import pandas as pd\n",
        "import numpy as np\n",
        "import statsmodels.api as sm\n",
        "from sklearn.linear_model import LinearRegression"
      ]
    },
    {
      "cell_type": "code",
      "source": [
        "# Baca file Excel\n",
        "data = pd.read_excel('test.xlsx')"
      ],
      "metadata": {
        "id": "RMCRi1PuSavo"
      },
      "execution_count": 34,
      "outputs": []
    },
    {
      "cell_type": "code",
      "source": [
        "print(data)"
      ],
      "metadata": {
        "colab": {
          "base_uri": "https://localhost:8080/"
        },
        "id": "LVBwfsguYtTw",
        "outputId": "0f039bd3-ca76-4038-821d-4ef24b92e814"
      },
      "execution_count": 35,
      "outputs": [
        {
          "output_type": "stream",
          "name": "stdout",
          "text": [
            "   periklanan  pemasaran_langsung  penjualan_personal  penjualan\n",
            "0     3000000             4000000             3000000  412163500\n",
            "1     3000000             5000000             2000000  436407000\n",
            "2     3000000             4500000             3000000  414113500\n",
            "3     2000000             6000000             2000000  468905500\n",
            "4     2500000             6500000             1000000  871604100\n",
            "5     3000000             5000000             2000000  765510575\n",
            "6     2000000             6000000             2000000  774170075\n",
            "7     2500000             5500000             2000000  752243450\n"
          ]
        }
      ]
    },
    {
      "cell_type": "code",
      "source": [
        "# Variabel tetap (y) dan variabel bebas (x1, x2, x3)\n",
        "y = data['penjualan'].values\n",
        "X = data[['periklanan', 'pemasaran_langsung', 'penjualan_personal']].values"
      ],
      "metadata": {
        "id": "WrcvevPzSnPk"
      },
      "execution_count": 36,
      "outputs": []
    },
    {
      "cell_type": "code",
      "source": [
        "# Tambahkan kolom konstanta pada variabel bebas\n",
        "X = sm.add_constant(X)"
      ],
      "metadata": {
        "id": "VwZS3G0gS9Tx"
      },
      "execution_count": 37,
      "outputs": []
    },
    {
      "cell_type": "code",
      "source": [
        "data = data.dropna(subset=['periklanan', 'pemasaran_langsung', 'penjualan_personal', 'penjualan'])"
      ],
      "metadata": {
        "id": "_jn-KmPQXXDh"
      },
      "execution_count": 38,
      "outputs": []
    },
    {
      "cell_type": "code",
      "source": [
        "# Buat model regresi linear berganda\n",
        "model = sm.OLS(y, X)"
      ],
      "metadata": {
        "id": "EZIK_QRvTAiL"
      },
      "execution_count": 39,
      "outputs": []
    },
    {
      "cell_type": "code",
      "source": [
        "# Latih model\n",
        "result = model.fit()"
      ],
      "metadata": {
        "id": "GPmyTDj9TxN-"
      },
      "execution_count": 40,
      "outputs": []
    },
    {
      "cell_type": "code",
      "source": [
        "# Koefisien regresi\n",
        "coefficients = result.params\n",
        "print(\"Koefisien regresi:\")\n",
        "print(coefficients)"
      ],
      "metadata": {
        "colab": {
          "base_uri": "https://localhost:8080/"
        },
        "id": "HetybekoZZiR",
        "outputId": "c3b1298d-ca13-4385-f7ae-d4f5d3848420"
      },
      "execution_count": 41,
      "outputs": [
        {
          "output_type": "stream",
          "name": "stdout",
          "text": [
            "Koefisien regresi:\n",
            "[ 9.98637174e+08 -4.25075410e+00  1.38425967e+01 -2.11354366e+02]\n"
          ]
        }
      ]
    },
    {
      "cell_type": "code",
      "source": [
        "# Korelasi\n",
        "correlation_matrix = data[['penjualan', 'periklanan', 'pemasaran_langsung', 'penjualan_personal']].corr()\n",
        "print(\"Korelasi:\")\n",
        "print(correlation_matrix)"
      ],
      "metadata": {
        "colab": {
          "base_uri": "https://localhost:8080/"
        },
        "id": "sRJBsgQeZcCl",
        "outputId": "1d29f8e0-f2cb-4a03-97ab-67148512a862"
      },
      "execution_count": 43,
      "outputs": [
        {
          "output_type": "stream",
          "name": "stdout",
          "text": [
            "Korelasi:\n",
            "                    penjualan  periklanan  pemasaran_langsung  \\\n",
            "penjualan            1.000000   -0.361762            0.674749   \n",
            "periklanan          -0.361762    1.000000           -0.789076   \n",
            "pemasaran_langsung   0.674749   -0.789076            1.000000   \n",
            "penjualan_personal  -0.749663    0.440086           -0.876422   \n",
            "\n",
            "                    penjualan_personal  \n",
            "penjualan                    -0.749663  \n",
            "periklanan                    0.440086  \n",
            "pemasaran_langsung           -0.876422  \n",
            "penjualan_personal            1.000000  \n"
          ]
        }
      ]
    },
    {
      "cell_type": "code",
      "source": [
        "# Determinasi\n",
        "r_squared = result.rsquared\n",
        "print(\"Koefisien determinasi (R-squared):\")\n",
        "print(r_squared)"
      ],
      "metadata": {
        "colab": {
          "base_uri": "https://localhost:8080/"
        },
        "id": "gRw_a814ZtJV",
        "outputId": "c9af260e-96d3-46da-85e0-b9e4b022e1a2"
      },
      "execution_count": 44,
      "outputs": [
        {
          "output_type": "stream",
          "name": "stdout",
          "text": [
            "Koefisien determinasi (R-squared):\n",
            "0.5633597485855208\n"
          ]
        }
      ]
    },
    {
      "cell_type": "code",
      "source": [
        "# Uji F\n",
        "f_value = result.fvalue\n",
        "f_pvalue = result.f_pvalue\n",
        "print(\"Uji F:\")\n",
        "print(\"F-value:\", f_value)\n",
        "print(\"P-value:\", f_pvalue)"
      ],
      "metadata": {
        "colab": {
          "base_uri": "https://localhost:8080/"
        },
        "id": "5Dx-DIA2Zv7g",
        "outputId": "7d2d26e3-9b76-4a1d-8890-cc91bfae5d1c"
      },
      "execution_count": 45,
      "outputs": [
        {
          "output_type": "stream",
          "name": "stdout",
          "text": [
            "Uji F:\n",
            "F-value: 1.720286503624098\n",
            "P-value: 0.3002122733371877\n"
          ]
        }
      ]
    },
    {
      "cell_type": "code",
      "source": [
        "# Uji t\n",
        "t_values = result.tvalues\n",
        "t_pvalues = result.pvalues\n",
        "print(\"Uji t:\")\n",
        "print(\"T-values:\")\n",
        "print(t_values)\n",
        "print(\"P-values:\")\n",
        "print(t_pvalues)"
      ],
      "metadata": {
        "colab": {
          "base_uri": "https://localhost:8080/"
        },
        "id": "EON8_KCdZzyp",
        "outputId": "3b911bfe-565d-461d-c32b-b915de2d606e"
      },
      "execution_count": 46,
      "outputs": [
        {
          "output_type": "stream",
          "name": "stdout",
          "text": [
            "Uji t:\n",
            "T-values:\n",
            "[ 0.23345102 -0.00943827  0.03133264 -0.53194128]\n",
            "P-values:\n",
            "[0.82687166 0.99292143 0.97650533 0.62293881]\n"
          ]
        }
      ]
    },
    {
      "cell_type": "code",
      "source": [
        "# Prediksi berdasarkan model\n",
        "y_pred = result.predict(X)\n",
        "data['Prediksi'] = y_pred"
      ],
      "metadata": {
        "id": "uswQpdz4aDsf"
      },
      "execution_count": 49,
      "outputs": []
    },
    {
      "cell_type": "code",
      "source": [
        "# Menampilkan data beserta prediksi\n",
        "print(data)"
      ],
      "metadata": {
        "colab": {
          "base_uri": "https://localhost:8080/"
        },
        "id": "YHNLikkGakz_",
        "outputId": "64e50ea1-0fcc-40f3-f085-944874ed54db"
      },
      "execution_count": 50,
      "outputs": [
        {
          "output_type": "stream",
          "name": "stdout",
          "text": [
            "   periklanan  pemasaran_langsung  penjualan_personal  penjualan      Prediksi\n",
            "0     3000000             4000000             3000000  412163500  4.071922e+08\n",
            "1     3000000             5000000             2000000  436407000  6.323892e+08\n",
            "2     3000000             4500000             3000000  414113500  4.141135e+08\n",
            "3     2000000             6000000             2000000  468905500  6.504825e+08\n",
            "4     2500000             6500000             1000000  871604100  8.666328e+08\n",
            "5     3000000             5000000             2000000  765510575  6.323892e+08\n",
            "6     2000000             6000000             2000000  774170075  6.504825e+08\n",
            "7     2500000             5500000             2000000  752243450  6.414358e+08\n"
          ]
        }
      ]
    },
    {
      "cell_type": "code",
      "source": [
        "# Menampilkan rekomendasi\n",
        "threshold = 0.5  # Ubah threshold sesuai kebutuhan\n",
        "rekomendasi = data[data['Prediksi'] > threshold]\n",
        "print(\"Rekomendasi:\")\n",
        "print(rekomendasi)"
      ],
      "metadata": {
        "colab": {
          "base_uri": "https://localhost:8080/"
        },
        "id": "OUnGASCGaniv",
        "outputId": "8dc6db5d-5551-413c-c106-d5ade875c518"
      },
      "execution_count": 51,
      "outputs": [
        {
          "output_type": "stream",
          "name": "stdout",
          "text": [
            "Rekomendasi:\n",
            "   periklanan  pemasaran_langsung  penjualan_personal  penjualan      Prediksi\n",
            "0     3000000             4000000             3000000  412163500  4.071922e+08\n",
            "1     3000000             5000000             2000000  436407000  6.323892e+08\n",
            "2     3000000             4500000             3000000  414113500  4.141135e+08\n",
            "3     2000000             6000000             2000000  468905500  6.504825e+08\n",
            "4     2500000             6500000             1000000  871604100  8.666328e+08\n",
            "5     3000000             5000000             2000000  765510575  6.323892e+08\n",
            "6     2000000             6000000             2000000  774170075  6.504825e+08\n",
            "7     2500000             5500000             2000000  752243450  6.414358e+08\n"
          ]
        }
      ]
    }
  ]
}